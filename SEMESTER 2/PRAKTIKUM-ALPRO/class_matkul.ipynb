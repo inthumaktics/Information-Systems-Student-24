{
 "cells": [
  {
   "cell_type": "code",
   "execution_count": 3,
   "id": "4595706b",
   "metadata": {},
   "outputs": [
    {
     "data": {
      "text/plain": [
       "4"
      ]
     },
     "execution_count": 3,
     "metadata": {},
     "output_type": "execute_result"
    }
   ],
   "source": [
    "class matakuliah:\n",
    "    jumlah = 0\n",
    "    def __init__(matkul, nama_matkul, SKS, kode):\n",
    "        matkul.nama_matkul = nama_matkul\n",
    "        matkul.SKS = SKS\n",
    "        matkul.kode = kode\n",
    "        matakuliah.jumlah += 1\n",
    "\n",
    "\n",
    "    def tampil_jumlah(matkul):\n",
    "        print(\"Jumlah mata kuliah %d : \"), matakuliah.jumlah\n",
    "\n",
    "    def tampil_matkul(matkul):\n",
    "        print(\"nama mata kuliah :\", matkul.nama_matkul, \", SKS : \", matkul.SKS, \"Kode :\", matkul.kode)\n",
    "\n",
    "matkul1 = matakuliah(\"Algoritma Pemrograman\", 3, 245001)\n",
    "matkul2 = matakuliah(\"SI Manajemen\", 3, 245002)\n",
    "matkul3 = matakuliah(\"Analisis Proses Bisnis\", 3, 245003)\n",
    "matkul4 = matakuliah(\"Konsep Basis Data\", 3, 245004)\n",
    "matakuliah.jumlah\n"
   ]
  },
  {
   "cell_type": "code",
   "execution_count": 4,
   "id": "2a1920f5",
   "metadata": {},
   "outputs": [
    {
     "name": "stdout",
     "output_type": "stream",
     "text": [
      "nama mata kuliah : Algoritma Pemrograman , SKS :  3 Kode : 245001\n",
      "nama mata kuliah : SI Manajemen , SKS :  3 Kode : 245002\n",
      "nama mata kuliah : Analisis Proses Bisnis , SKS :  3 Kode : 245003\n",
      "nama mata kuliah : Konsep Basis Data , SKS :  3 Kode : 245004\n"
     ]
    }
   ],
   "source": [
    "matkul1.tampil_matkul()\n",
    "matkul2.tampil_matkul()\n",
    "matkul3.tampil_matkul()\n",
    "matkul4.tampil_matkul()"
   ]
  }
 ],
 "metadata": {
  "kernelspec": {
   "display_name": "base",
   "language": "python",
   "name": "python3"
  },
  "language_info": {
   "codemirror_mode": {
    "name": "ipython",
    "version": 3
   },
   "file_extension": ".py",
   "mimetype": "text/x-python",
   "name": "python",
   "nbconvert_exporter": "python",
   "pygments_lexer": "ipython3",
   "version": "3.12.4"
  }
 },
 "nbformat": 4,
 "nbformat_minor": 5
}
