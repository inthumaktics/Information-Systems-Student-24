{
 "cells": [
  {
   "cell_type": "code",
   "execution_count": null,
   "id": "147a1bb1",
   "metadata": {},
   "outputs": [],
   "source": [
    "class mahasiswa:\n",
    "    jumlah = 0\n",
    "    def __init__(mhs, nama, prodi, NIM):\n",
    "        mhs.prodi = prodi\n",
    "        mhs.nama = nama\n",
    "        mhs.NIM = NIM\n",
    "        mahasiswa.jumlah + 1\n",
    "    \n",
    "    def tampil_jumlah(mhs):\n",
    "        print(\"Jumlah mahasiswa %d :\", mahasiswa.jumlah)\n",
    "\n",
    "    def tampil_mahasiswa(mhs):\n",
    "        print(\"nama : \", mhs.nama, \"NIM :\", mhs.nim, \"prodi :\", mhs.prodi)\n",
    "        \n",
    "mhs1 = mahasiswa(\"iwan\", \"SI\", 150016001)\n",
    "mhs2 = mahasiswa(\"riyadi\", \"Math\", 160016002)\n",
    "mhs3 = mahasiswa(\"yanto\", \"Fisika\", 140016003)\n",
    "mhs4 = mahasiswa(\"tri\", \"Biologi\", 130016004)"
   ]
  },
  {
   "cell_type": "code",
   "execution_count": null,
   "id": "0085d03c",
   "metadata": {},
   "outputs": [],
   "source": [
    "mhs1 = mahasiswa(\"iwan\", \"SI\", 150016001)"
   ]
  },
  {
   "cell_type": "code",
   "execution_count": null,
   "id": "72c31c35",
   "metadata": {},
   "outputs": [],
   "source": [
    "mhs2 = mahasiswa(\"riyadi\", \"Math\", 160016002)"
   ]
  },
  {
   "cell_type": "code",
   "execution_count": null,
   "id": "bbfb4bc4",
   "metadata": {},
   "outputs": [],
   "source": [
    "mhs3 = mahasiswa(\"yanto\", \"Fisika\", 140016003)"
   ]
  },
  {
   "cell_type": "code",
   "execution_count": null,
   "id": "1510bd58",
   "metadata": {},
   "outputs": [],
   "source": [
    "mhs4 = mahasiswa(\"tri\", \"Biologi\", 130016004)"
   ]
  },
  {
   "cell_type": "code",
   "execution_count": null,
   "id": "2cae9004",
   "metadata": {},
   "outputs": [],
   "source": [
    "tampil_mahasiswa(mhs1)"
   ]
  }
 ],
 "metadata": {
  "language_info": {
   "name": "python"
  }
 },
 "nbformat": 4,
 "nbformat_minor": 5
}
