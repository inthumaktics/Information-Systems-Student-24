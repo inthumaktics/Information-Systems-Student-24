{
 "cells": [
  {
   "cell_type": "code",
   "execution_count": null,
   "id": "6bf16277",
   "metadata": {},
   "outputs": [],
   "source": [
    "#1. MODIFIKASI PENGURUTAN DATA SECARA DESCENDING \n",
    "\n",
    "def buble2(A):\n",
    "    tukar = True\n",
    "    while tukar:\n",
    "        tukar = False\n",
    "        for j in range(len(A)-1):\n",
    "            if A[j]<A[j+1]:\n",
    "                A[j], A[j+1] = A[j+1], A[j]\n",
    "                print(f\"tukar {A[j]} dengan {A[j+1]}\")\n",
    "                print(f\"urutan menjadi {A}\")\n",
    "                tukar = True\n",
    "    return A\n",
    "    \n",
    "A = [3, 1, 8, 4, 2]\n",
    "\n",
    "print(f\"HASIL AKHIR URUTANNYA ADALAH {buble2(A)}\")"
   ]
  },
  {
   "cell_type": "code",
   "execution_count": null,
   "id": "97c825a8",
   "metadata": {},
   "outputs": [],
   "source": [
    "#2. MODIFIKASI FUNGSI MENAMPILKAN HASIL TIAP LANGKAH PENGURUTAN : \n",
    "\n",
    "def buble2(A):\n",
    "    tukar = True\n",
    "    while tukar:\n",
    "        tukar = False\n",
    "        for j in range(len(A)-1):\n",
    "            if A[j]>A[j+1]:\n",
    "                A[j], A[j+1] = A[j+1], A[j]\n",
    "                print(f\"tukar {A[j]} dengan {A[j+1]}\")\n",
    "                print(f\"urutan menjadi {A}\")\n",
    "                tukar = True\n",
    "    return A\n",
    "    \n",
    "A = [3, 1, 8, 4, 2]\n",
    "\n",
    "print(f\"HASIL AKHIR URUTANNYA ADALAH {buble2(A)}\")"
   ]
  }
 ],
 "metadata": {
  "language_info": {
   "name": "python"
  }
 },
 "nbformat": 4,
 "nbformat_minor": 5
}
