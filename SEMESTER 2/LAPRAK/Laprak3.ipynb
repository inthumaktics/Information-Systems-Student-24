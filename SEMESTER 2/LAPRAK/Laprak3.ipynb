{
 "cells": [
  {
   "cell_type": "code",
   "execution_count": null,
   "id": "e4fb4ea0",
   "metadata": {},
   "outputs": [],
   "source": [
    "#1. PENGURUTAN DATA SECARA DESCENDING\n",
    "def insertion_sort_desc(sort_list):\n",
    "    for i in range(1, len(sort_list)):\n",
    "        key = sort_list[i]\n",
    "        j = i - 1\n",
    "        while j >= 0 and key > sort_list[j]:\n",
    "            sort_list[j + 1] = sort_list[j]\n",
    "            print(f'pergeseran pada iterasi ke {i} j ke : {j} {sort_list}')\n",
    "            j -= 1\n",
    "        sort_list[j + 1] = key\n",
    "        print(f'iterasi {i} {sort_list}')\n",
    "\n",
    "A = [4, 3, 5, 6, 2, 78, 98]\n",
    "insertion_sort_desc(A)"
   ]
  },
  {
   "cell_type": "code",
   "execution_count": null,
   "id": "b1dc7f4b",
   "metadata": {},
   "outputs": [],
   "source": [
    "#2. MODIFIKASI 1 : \n",
    "def insertion_sort(sort_list):\n",
    "    for i in range(1, len(sort_list)):\n",
    "        key = sort_list[i]\n",
    "        j = i - 1\n",
    "        while j >= 0 and key < sort_list[j]:\n",
    "            sort_list[j + 1] = sort_list[j]\n",
    "            print('iterasi ke', i, sort_list)\n",
    "            j -= 1\n",
    "        sort_list[j + 1] = key\n",
    "    print('iterasi', i-1 ,sort_list)\n",
    "\n",
    "\n",
    "A=[4,3,5,6,2,78,98]\n",
    "insertion_sort(A)"
   ]
  },
  {
   "cell_type": "code",
   "execution_count": null,
   "id": "330f68f6",
   "metadata": {},
   "outputs": [],
   "source": [
    "#3. MODIFIKASI 2 : \n",
    "def insertion_sort(sort_list):\n",
    "    for i in range(1, len(sort_list)):\n",
    "        key = sort_list[i]\n",
    "        j = i - 1\n",
    "        while j >= 0 and key < sort_list[j]:\n",
    "            sort_list[j + 1] = sort_list[j]\n",
    "            print(f'pergeseran pada iterasi ke {i} j ke : {j} {sort_list}')\n",
    "            j -= 1\n",
    "        sort_list[j + 1] = key\n",
    "        print(f'iterasi {i} {sort_list}')\n",
    "\n",
    "A = [4, 3, 5, 6, 2, 78, 98]\n",
    "insertion_sort(A)"
   ]
  }
 ],
 "metadata": {
  "language_info": {
   "name": "python"
  }
 },
 "nbformat": 4,
 "nbformat_minor": 5
}
