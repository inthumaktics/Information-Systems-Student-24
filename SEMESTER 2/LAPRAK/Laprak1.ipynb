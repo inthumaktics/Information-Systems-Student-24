{
 "cells": [
  {
   "cell_type": "code",
   "execution_count": 1,
   "id": "49c2d5cb",
   "metadata": {},
   "outputs": [
    {
     "name": "stdout",
     "output_type": "stream",
     "text": [
      "Luas lingkarannya adalah 1257.142857142857\n"
     ]
    }
   ],
   "source": [
    "#1. FUNGSI MENGHITUNG LUAS LINGKARAN \n",
    "\n",
    "def LuasLingkaran(r):\n",
    "    'Fungsi menghitung Luas Lingkaran'\n",
    "    phi = 22/7\n",
    "    Luas = phi*(r**2)\n",
    "    return Luas\n",
    "\n",
    "\n",
    "r = int(input(\"Masukkan jari-jari lingkaran :\"))\n",
    "print(f\"Luas lingkarannya adalah {LuasLingkaran(r)}\")"
   ]
  },
  {
   "cell_type": "code",
   "execution_count": 2,
   "id": "5d059f7b",
   "metadata": {},
   "outputs": [
    {
     "name": "stdout",
     "output_type": "stream",
     "text": [
      "Nilai minimumnya adalah : 75\n"
     ]
    }
   ],
   "source": [
    "#2. FUNGSI MENGHITUNG NILAI MINIMUM (nilai = [80, 75, 90, 88, 95])\n",
    "\n",
    "def n_min(nilai):\n",
    "    return min(nilai)\n",
    "\n",
    "nilai = [80, 75, 90, 88, 95]\n",
    "print(f\"Nilai minimumnya adalah : {n_min(nilai)}\")"
   ]
  },
  {
   "cell_type": "code",
   "execution_count": 3,
   "id": "40ec0844",
   "metadata": {},
   "outputs": [
    {
     "name": "stdout",
     "output_type": "stream",
     "text": [
      "Nilai rata-ratanya adalah: 85.6\n"
     ]
    }
   ],
   "source": [
    "#3. FUNGSI MENGHITUNG NILAI RATA-RATA (nilai = [80, 75, 90, 88, 95])\n",
    "def n_rata_rata(nilai):\n",
    "    jumlah = sum(nilai)\n",
    "    banyak_data = len(nilai)\n",
    "    rata_rata = jumlah / banyak_data\n",
    "    return rata_rata\n",
    "\n",
    "nilai = [80, 75, 90, 88, 95]\n",
    "print(f\"Nilai rata-ratanya adalah: {n_rata_rata(nilai)}\")"
   ]
  }
 ],
 "metadata": {
  "kernelspec": {
   "display_name": "base",
   "language": "python",
   "name": "python3"
  },
  "language_info": {
   "codemirror_mode": {
    "name": "ipython",
    "version": 3
   },
   "file_extension": ".py",
   "mimetype": "text/x-python",
   "name": "python",
   "nbconvert_exporter": "python",
   "pygments_lexer": "ipython3",
   "version": "3.12.4"
  }
 },
 "nbformat": 4,
 "nbformat_minor": 5
}
