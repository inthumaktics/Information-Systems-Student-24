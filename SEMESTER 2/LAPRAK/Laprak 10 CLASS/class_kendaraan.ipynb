{
 "cells": [
  {
   "cell_type": "code",
   "execution_count": 5,
   "id": "c1e1ee50",
   "metadata": {},
   "outputs": [],
   "source": [
    "#CLASS KENDARAAN\n",
    "\n",
    "class Kendaraan:\n",
    "    jumlah = 0\n",
    "    def __init__(kend, nama, jenis , harga):\n",
    "        kend.nama = nama\n",
    "        kend.jenis = jenis\n",
    "        kend.harga = harga\n",
    "        Kendaraan.jumlah += 1\n",
    "\n",
    "    def tampil_jumlah(kend):\n",
    "        print(\"Jumlah Kendaraan %d : \"), Kendaraan.jumlah\n",
    "\n",
    "    def tampil_Kendaraan(kend):\n",
    "        print(\"Nama:\", kend.nama, \", Jenis : \", kend.jenis, \", Harga:\", kend.harga)"
   ]
  },
  {
   "cell_type": "code",
   "execution_count": 6,
   "id": "1ebdce17",
   "metadata": {},
   "outputs": [
    {
     "data": {
      "text/plain": [
       "5"
      ]
     },
     "execution_count": 6,
     "metadata": {},
     "output_type": "execute_result"
    }
   ],
   "source": [
    "kend1 = Kendaraan(\"Sepeda Motor\", \"Bermotor\", 120000000)\n",
    "kend2 = Kendaraan(\"Mobil\", \"Bermotor\", 550000000)\n",
    "kend3 = Kendaraan(\"Sepeda\", \"Tidak Bermotor\", 6000000)\n",
    "kend4 = Kendaraan(\"Delman\", \"Tidak Bermotor\", 75000000)\n",
    "kend5 = Kendaraan(\"Kereta Api\", \"Bermotor\", 20000000000)\n",
    "Kendaraan.jumlah"
   ]
  },
  {
   "cell_type": "code",
   "execution_count": 7,
   "id": "78d884b8",
   "metadata": {},
   "outputs": [
    {
     "name": "stdout",
     "output_type": "stream",
     "text": [
      "Nama: Sepeda Motor , Jenis :  Bermotor , Harga: 120000000\n"
     ]
    }
   ],
   "source": [
    "kend1.tampil_Kendaraan()"
   ]
  },
  {
   "cell_type": "code",
   "execution_count": 8,
   "id": "00762990",
   "metadata": {},
   "outputs": [
    {
     "name": "stdout",
     "output_type": "stream",
     "text": [
      "Nama: Mobil , Jenis :  Bermotor , Harga: 550000000\n"
     ]
    }
   ],
   "source": [
    "kend2.tampil_Kendaraan()"
   ]
  },
  {
   "cell_type": "code",
   "execution_count": 9,
   "id": "d8c68b76",
   "metadata": {},
   "outputs": [
    {
     "name": "stdout",
     "output_type": "stream",
     "text": [
      "Nama: Sepeda , Jenis :  Tidak Bermotor , Harga: 6000000\n"
     ]
    }
   ],
   "source": [
    "kend3.tampil_Kendaraan()"
   ]
  },
  {
   "cell_type": "code",
   "execution_count": 10,
   "id": "e58e9992",
   "metadata": {},
   "outputs": [
    {
     "name": "stdout",
     "output_type": "stream",
     "text": [
      "Nama: Delman , Jenis :  Tidak Bermotor , Harga: 75000000\n"
     ]
    }
   ],
   "source": [
    "kend4.tampil_Kendaraan()"
   ]
  },
  {
   "cell_type": "code",
   "execution_count": 11,
   "id": "0b3f11b8",
   "metadata": {},
   "outputs": [
    {
     "name": "stdout",
     "output_type": "stream",
     "text": [
      "Nama: Kereta Api , Jenis :  Bermotor , Harga: 20000000000\n"
     ]
    }
   ],
   "source": [
    "kend5.tampil_Kendaraan()"
   ]
  }
 ],
 "metadata": {
  "kernelspec": {
   "display_name": "base",
   "language": "python",
   "name": "python3"
  },
  "language_info": {
   "codemirror_mode": {
    "name": "ipython",
    "version": 3
   },
   "file_extension": ".py",
   "mimetype": "text/x-python",
   "name": "python",
   "nbconvert_exporter": "python",
   "pygments_lexer": "ipython3",
   "version": "3.12.4"
  }
 },
 "nbformat": 4,
 "nbformat_minor": 5
}
