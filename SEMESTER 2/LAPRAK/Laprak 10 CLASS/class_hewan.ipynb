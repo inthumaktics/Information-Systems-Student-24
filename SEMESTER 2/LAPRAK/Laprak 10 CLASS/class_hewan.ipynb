{
 "cells": [
  {
   "cell_type": "code",
   "execution_count": 32,
   "id": "f35d1932",
   "metadata": {},
   "outputs": [],
   "source": [
    "#CLASS HEWAN \n",
    "class hewan:\n",
    "    jumlah = 0\n",
    "    def __init__(anml, nama_hewan, kelas, t_hidup):\n",
    "        anml.nama_hewan = nama_hewan\n",
    "        anml.kelas = kelas\n",
    "        anml.t_hidup = t_hidup\n",
    "        hewan.jumlah += 1\n",
    "\n",
    "    def tampil_jumlah(anml):\n",
    "        print(\"Jumlah Hewan %d : \"), hewan.jumlah\n",
    "\n",
    "    def tampil_hewan(anml):\n",
    "        print(\"Nama Hewan:\", anml.nama_hewan, \", Kelas Hewan : \", anml.kelas, \", Tempat Hidup:\", anml.t_hidup)\n"
   ]
  },
  {
   "cell_type": "code",
   "execution_count": 33,
   "id": "4585b343",
   "metadata": {},
   "outputs": [
    {
     "data": {
      "text/plain": [
       "5"
      ]
     },
     "execution_count": 33,
     "metadata": {},
     "output_type": "execute_result"
    }
   ],
   "source": [
    "anml1 = hewan(\"Kucing\", \"Mamalia\", \"Darat\")\n",
    "anml2 = hewan(\"Kuda\", \"Mamalia\", \"Darat\")\n",
    "anml3 = hewan(\"Pinguin\", \"Aves\", \"Air\")\n",
    "anml4 = hewan(\"Paus\", \"Mamalia\", \"Air\")\n",
    "anml5 = hewan(\"Merpati\", \"Aves\", \"Darat\")\n",
    "hewan.jumlah"
   ]
  },
  {
   "cell_type": "code",
   "execution_count": 34,
   "id": "0d98c521",
   "metadata": {},
   "outputs": [
    {
     "name": "stdout",
     "output_type": "stream",
     "text": [
      "Nama Hewan: Kucing , Kelas Hewan :  Mamalia , Tempat Hidup: Darat\n"
     ]
    }
   ],
   "source": [
    "anml1.tampil_hewan()"
   ]
  },
  {
   "cell_type": "code",
   "execution_count": 35,
   "id": "1b7bcf28",
   "metadata": {},
   "outputs": [
    {
     "name": "stdout",
     "output_type": "stream",
     "text": [
      "Nama Hewan: Kuda , Kelas Hewan :  Mamalia , Tempat Hidup: Darat\n"
     ]
    }
   ],
   "source": [
    "anml2.tampil_hewan()"
   ]
  },
  {
   "cell_type": "code",
   "execution_count": 36,
   "id": "31d2174f",
   "metadata": {},
   "outputs": [
    {
     "name": "stdout",
     "output_type": "stream",
     "text": [
      "Nama Hewan: Pinguin , Kelas Hewan :  Aves , Tempat Hidup: Air\n"
     ]
    }
   ],
   "source": [
    "anml3.tampil_hewan()"
   ]
  },
  {
   "cell_type": "code",
   "execution_count": 37,
   "id": "cc930ad9",
   "metadata": {},
   "outputs": [
    {
     "name": "stdout",
     "output_type": "stream",
     "text": [
      "Nama Hewan: Paus , Kelas Hewan :  Mamalia , Tempat Hidup: Air\n"
     ]
    }
   ],
   "source": [
    "anml4.tampil_hewan()"
   ]
  },
  {
   "cell_type": "code",
   "execution_count": 38,
   "id": "b741984e",
   "metadata": {},
   "outputs": [
    {
     "name": "stdout",
     "output_type": "stream",
     "text": [
      "Nama Hewan: Merpati , Kelas Hewan :  Aves , Tempat Hidup: Darat\n"
     ]
    }
   ],
   "source": [
    "anml5.tampil_hewan()"
   ]
  }
 ],
 "metadata": {
  "kernelspec": {
   "display_name": "base",
   "language": "python",
   "name": "python3"
  },
  "language_info": {
   "codemirror_mode": {
    "name": "ipython",
    "version": 3
   },
   "file_extension": ".py",
   "mimetype": "text/x-python",
   "name": "python",
   "nbconvert_exporter": "python",
   "pygments_lexer": "ipython3",
   "version": "3.12.4"
  }
 },
 "nbformat": 4,
 "nbformat_minor": 5
}
