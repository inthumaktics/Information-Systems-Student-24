{
 "cells": [
  {
   "cell_type": "code",
   "execution_count": 12,
   "id": "f35d1932",
   "metadata": {},
   "outputs": [],
   "source": [
    "#CLASS ELEKTRONIK\n",
    "class elektronik:\n",
    "    jumlah = 0\n",
    "    def __init__(elekt, nama, jenis , harga):\n",
    "        elekt.nama = nama\n",
    "        elekt.jenis = jenis\n",
    "        elekt.harga = harga\n",
    "        elektronik.jumlah += 1\n",
    "\n",
    "    def tampil_jumlah(elekt):\n",
    "        print(\"Jumlah Elektronik %d : \"), elektronik.jumlah\n",
    "\n",
    "    def tampil_elektronik(elekt):\n",
    "        print(\"Nama:\", elekt.nama, \", Jenis : \", elekt.jenis, \", Harga:\", elekt.harga)\n"
   ]
  },
  {
   "cell_type": "code",
   "execution_count": 13,
   "id": "4585b343",
   "metadata": {},
   "outputs": [
    {
     "data": {
      "text/plain": [
       "5"
      ]
     },
     "execution_count": 13,
     "metadata": {},
     "output_type": "execute_result"
    }
   ],
   "source": [
    "elekt1 = elektronik(\"Ponsel\", \"Konsumen\", 5000000)\n",
    "elekt2 = elektronik(\"Mesin Cuci\", \"Rumah Tangga\", 10000000)\n",
    "elekt3 = elektronik(\"Kulkas\", \"Rumah Tangga\", 10000000)\n",
    "elekt4 = elektronik(\"Televisi\", \"Konsumen\", 20000000)\n",
    "elekt5 = elektronik(\"Kontrol Proses\", \"Industri\", 150000000)\n",
    "elektronik.jumlah"
   ]
  },
  {
   "cell_type": "code",
   "execution_count": 14,
   "id": "0d98c521",
   "metadata": {},
   "outputs": [
    {
     "name": "stdout",
     "output_type": "stream",
     "text": [
      "Nama: Ponsel , Jenis :  Konsumen , Harga: 5000000\n"
     ]
    }
   ],
   "source": [
    "elekt1.tampil_elektronik()"
   ]
  },
  {
   "cell_type": "code",
   "execution_count": 15,
   "id": "1b7bcf28",
   "metadata": {},
   "outputs": [
    {
     "name": "stdout",
     "output_type": "stream",
     "text": [
      "Nama: Mesin Cuci , Jenis :  Rumah Tangga , Harga: 10000000\n"
     ]
    }
   ],
   "source": [
    "elekt2.tampil_elektronik()"
   ]
  },
  {
   "cell_type": "code",
   "execution_count": 16,
   "id": "31d2174f",
   "metadata": {},
   "outputs": [
    {
     "name": "stdout",
     "output_type": "stream",
     "text": [
      "Nama: Kulkas , Jenis :  Rumah Tangga , Harga: 10000000\n"
     ]
    }
   ],
   "source": [
    "elekt3.tampil_elektronik()"
   ]
  },
  {
   "cell_type": "code",
   "execution_count": 17,
   "id": "cc930ad9",
   "metadata": {},
   "outputs": [
    {
     "name": "stdout",
     "output_type": "stream",
     "text": [
      "Nama: Televisi , Jenis :  Konsumen , Harga: 20000000\n"
     ]
    }
   ],
   "source": [
    "elekt4.tampil_elektronik()"
   ]
  },
  {
   "cell_type": "code",
   "execution_count": 18,
   "id": "b741984e",
   "metadata": {},
   "outputs": [
    {
     "name": "stdout",
     "output_type": "stream",
     "text": [
      "Nama: Kontrol Proses , Jenis :  Industri , Harga: 150000000\n"
     ]
    }
   ],
   "source": [
    "elekt5.tampil_elektronik()"
   ]
  }
 ],
 "metadata": {
  "kernelspec": {
   "display_name": "base",
   "language": "python",
   "name": "python3"
  },
  "language_info": {
   "codemirror_mode": {
    "name": "ipython",
    "version": 3
   },
   "file_extension": ".py",
   "mimetype": "text/x-python",
   "name": "python",
   "nbconvert_exporter": "python",
   "pygments_lexer": "ipython3",
   "version": "3.12.4"
  }
 },
 "nbformat": 4,
 "nbformat_minor": 5
}
