{
 "cells": [
  {
   "cell_type": "code",
   "execution_count": null,
   "id": "d53a45f6",
   "metadata": {},
   "outputs": [],
   "source": [
    "#KASUS REKURSIF FIBONACI : \n",
    "def fib(n):\n",
    "    if n==0 :\n",
    "        return 0\n",
    "    elif n==1:\n",
    "        return 1\n",
    "    else:\n",
    "        return(fib(n-1)+fib(n-2))\n",
    "fib(7)\n",
    "print(f\"Hasil rekursinya : {fib(10)}\")"
   ]
  },
  {
   "cell_type": "code",
   "execution_count": null,
   "id": "37aa6690",
   "metadata": {},
   "outputs": [],
   "source": [
    "#1. UBAH FUNGSI FIBONACI DALAM BENTUK ITERASI : \n",
    "# LOOP FOR :\n",
    "def fib_for(n):\n",
    "    if n==0:\n",
    "        return 0\n",
    "    elif n==1:\n",
    "        return 1\n",
    "    else : \n",
    "        a, b = 0,1\n",
    "        for i in range(2, n+1):\n",
    "            sum_fib = a + b\n",
    "            a = b\n",
    "            b = sum_fib\n",
    "        return b\n",
    "\n",
    "fib_for(7)\n",
    "print(f\"Hasil rekursinya : {fib_for(7)}\")"
   ]
  },
  {
   "cell_type": "code",
   "execution_count": null,
   "id": "8d177768",
   "metadata": {},
   "outputs": [],
   "source": [
    "# LOOP WHILE : \n",
    "def fib_while(n):\n",
    "    if n==0:\n",
    "        return 0\n",
    "    elif n==1:\n",
    "        return 1\n",
    "    else:\n",
    "        a, b = 0, 1\n",
    "        count = 2\n",
    "        while count <= n:\n",
    "            sum_fib = a + b\n",
    "            a = b\n",
    "            b = sum_fib\n",
    "            count += 1\n",
    "        return b\n",
    "        \n",
    "fib_while(7)\n",
    "print(f\"Hasil rekursinya : {fib_while(7)}\")"
   ]
  },
  {
   "cell_type": "code",
   "execution_count": null,
   "id": "a7b494b2",
   "metadata": {},
   "outputs": [],
   "source": [
    "# 2. MENGHITUNG NILAI DUWA PANGKAT X\n",
    "# A.) ANALISIS KASUS PENYETOP DAN REKURSINYA: \n",
    "        # Kasus Penyetop (Base Case):\n",
    "            # Kasus paling sederhana untuk 2 pangkat x adalah ketika x=0. 2 pangkat 0 = 1.\n",
    "            # Jadi, jika x=0, fungsi akan mengembalikan nilai 1. Ini adalah kondisi yang menghentikan rekursi.\n",
    "\n",
    "        #Kasus rekursif : \n",
    "            #Untuk x>0, kita bisa menyatakan 2 pangkat x dalam bentuk masalah yang lebih kecil.\n",
    "            # 2 pangkat x = 2 × 2 pangkat x−1.\n",
    "            # Ini berarti untuk menghitung 2 pangkat x, bisa mengalikan 2 dengan hasil perhitungan 2 pangkat x−1\n",
    "            # Fungsi akan memanggil dirinya sendiri dengan argumen yang lebih kecil (x−1) hingga mencapai kasus penyetop (x=0)."
   ]
  },
  {
   "cell_type": "code",
   "execution_count": null,
   "id": "80959715",
   "metadata": {},
   "outputs": [],
   "source": [
    "# B. PROGRAM MENGHITUNG REKURSINYA : \n",
    "def rek_pangkat_2(x):\n",
    "    if x == 0 :\n",
    "        return 1\n",
    "    elif x < 0 :\n",
    "        return 1\n",
    "    else : \n",
    "        return 2 * rek_pangkat_2(x-1)\n",
    "        \n",
    "rek_pangkat_2(20)\n",
    "print(f\"Hasil rekursinya : {rek_pangkat_2(20)}\")"
   ]
  },
  {
   "cell_type": "code",
   "execution_count": null,
   "id": "39d587c7",
   "metadata": {},
   "outputs": [],
   "source": [
    "# C. PROGRAM DENGAN ITERASI/PERULANGAN : \n",
    "def iter_pangkat_2(x):\n",
    "    if x == 0:\n",
    "        return 1\n",
    "    elif x < 0: \n",
    "        hasil = 1.0\n",
    "        for i in range(abs(x)):\n",
    "            hasil /= 2         \n",
    "        return hasil\n",
    "    else:       \n",
    "        hasil = 1\n",
    "        for i in range(x):\n",
    "            hasil *= 2    \n",
    "        return hasil\n",
    "        \n",
    "iter_pangkat_2(20)\n",
    "print(f\"Hasil rekursinya : {iter_pangkat_2(20)}\")"
   ]
  }
 ],
 "metadata": {
  "language_info": {
   "name": "python"
  }
 },
 "nbformat": 4,
 "nbformat_minor": 5
}
