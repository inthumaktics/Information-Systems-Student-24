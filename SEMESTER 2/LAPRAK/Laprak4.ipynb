{
 "cells": [
  {
   "cell_type": "code",
   "execution_count": null,
   "id": "ade717b9",
   "metadata": {},
   "outputs": [],
   "source": [
    "#1. Pengurutan secara Descending : \n",
    "def Selection_sort(A):\n",
    "    for i in range(len(A)):\n",
    "        print(\"---------------------\")\n",
    "        print(f\"List sebelum penukaran {i}: {A}\")\n",
    "        min_idx = i\n",
    "        for j in range(i+1, len(A)):\n",
    "            if A[min_idx] < A[j]:\n",
    "                min_idx = j\n",
    "        A[i], A[min_idx] = A[min_idx], A[i]\n",
    "\n",
    "A = [5, 11, 2, 47, 144, 1, 25]\n",
    "Selection_sort(A)\n",
    "print(\"---------------------\")\n",
    "print(f'Hasil Akhir pengurutan secara Descending : {A}')"
   ]
  },
  {
   "cell_type": "code",
   "execution_count": null,
   "id": "d9e85dc0",
   "metadata": {},
   "outputs": [],
   "source": [
    "#2. Modifikasi pengurutan : \n",
    "def Selection_sort(A):\n",
    "    for i in range(len(A)):\n",
    "        print(\"---------------------\")\n",
    "        print(f\"Iterasi {i} : {A}\")\n",
    "        min_idx = i\n",
    "        for j in range(i+1, len(A)):\n",
    "            if A[min_idx] < A[j]:\n",
    "                min_idx = j\n",
    "        A[i], A[min_idx] = A[min_idx], A[i]\n",
    "\n",
    "A = [5, 11, 2, 47, 144, 1, 25]\n",
    "Selection_sort(A)\n",
    "print(\"---------------------\")\n",
    "print(f'Hasil Akhir pengurutan secara Descending : {A}')"
   ]
  }
 ],
 "metadata": {
  "language_info": {
   "name": "python"
  }
 },
 "nbformat": 4,
 "nbformat_minor": 5
}
