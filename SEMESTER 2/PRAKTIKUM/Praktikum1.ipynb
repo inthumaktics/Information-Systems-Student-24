{
 "cells": [
  {
   "cell_type": "code",
   "execution_count": 26,
   "id": "c36cb291",
   "metadata": {},
   "outputs": [
    {
     "name": "stdout",
     "output_type": "stream",
     "text": [
      "Ini string baru\n"
     ]
    }
   ],
   "source": [
    "def printme(str):\n",
    "    'Ini string'\n",
    "    print(str)\n",
    "    return\n",
    "\n",
    "printme('Ini string baru')"
   ]
  },
  {
   "cell_type": "code",
   "execution_count": 27,
   "id": "f310d416",
   "metadata": {},
   "outputs": [
    {
     "name": "stdout",
     "output_type": "stream",
     "text": [
      "Ini string baru\n",
      "Ini string baru\n",
      "Ini string baru\n",
      "Ini string baru\n"
     ]
    }
   ],
   "source": [
    "def printme(str):\n",
    "    'Ini string'\n",
    "    print(str)\n",
    "    print(str)\n",
    "    print(str)\n",
    "    print(str)\n",
    "    return\n",
    "\n",
    "printme('Ini string baru')"
   ]
  },
  {
   "cell_type": "code",
   "execution_count": 28,
   "id": "542cb420",
   "metadata": {},
   "outputs": [
    {
     "data": {
      "text/plain": [
       "25"
      ]
     },
     "execution_count": 28,
     "metadata": {},
     "output_type": "execute_result"
    }
   ],
   "source": [
    "def tambah(a, b):\n",
    "    'Fungsi untuk menjumlahkan dua bilangan'\n",
    "    Hasil = a+b\n",
    "    return Hasil\n",
    "    \n",
    "\n",
    "tambah(20, 5)"
   ]
  },
  {
   "cell_type": "code",
   "execution_count": 29,
   "id": "47ff6f34",
   "metadata": {},
   "outputs": [],
   "source": [
    "# def recursive_function(coba):\n",
    "#     \"Ini akan memanggil dirinya di dalam dirinya sendiri\"\n",
    "#     print(\"Halo\")\n",
    "#     recursive_function(coba)\n",
    "#     return\n",
    "\n",
    "# recursive_function(\"Woi\")"
   ]
  },
  {
   "cell_type": "code",
   "execution_count": 30,
   "id": "e8e9456c",
   "metadata": {},
   "outputs": [
    {
     "name": "stdout",
     "output_type": "stream",
     "text": [
      "100\n"
     ]
    },
    {
     "data": {
      "text/plain": [
       "100"
      ]
     },
     "execution_count": 30,
     "metadata": {},
     "output_type": "execute_result"
    }
   ],
   "source": [
    "#Fungsi Menghitung luas persegi panjang\n",
    "\n",
    "def LuasPP(p,l):\n",
    "    \"Menghitung luas persegi panjang\"\n",
    "    L = p*l\n",
    "    print(L)\n",
    "    return L\n",
    "\n",
    "LuasPP(20, 5)"
   ]
  },
  {
   "cell_type": "code",
   "execution_count": 31,
   "id": "5da09b0b",
   "metadata": {},
   "outputs": [
    {
     "name": "stdout",
     "output_type": "stream",
     "text": [
      "12\n",
      "12\n",
      "36\n"
     ]
    }
   ],
   "source": [
    "A = LuasPP(4,3)\n",
    "print(A)\n",
    "S = 3*A\n",
    "print(S)"
   ]
  },
  {
   "cell_type": "code",
   "execution_count": 32,
   "id": "d69f680f",
   "metadata": {},
   "outputs": [
    {
     "name": "stdout",
     "output_type": "stream",
     "text": [
      "*\n",
      "**\n",
      "***\n",
      "****\n"
     ]
    }
   ],
   "source": [
    "def segitiga(banyak):\n",
    "    for i in range(1, banyak + 1):\n",
    "        print('*' * i)\n",
    "\n",
    "segitiga(4)"
   ]
  },
  {
   "cell_type": "code",
   "execution_count": 33,
   "id": "2e82ca64",
   "metadata": {},
   "outputs": [
    {
     "data": {
      "text/plain": [
       "68.0"
      ]
     },
     "execution_count": 33,
     "metadata": {},
     "output_type": "execute_result"
    }
   ],
   "source": [
    "#Konversi Suhu\n",
    "\n",
    "def CF(c):\n",
    "    \"Fungsi mengubah Celsius ke Fahrenheit\"\n",
    "    F = (c*9/5) + 32\n",
    "    return F\n",
    "    \n",
    "CF(20)"
   ]
  },
  {
   "cell_type": "code",
   "execution_count": 34,
   "id": "99adf4af",
   "metadata": {},
   "outputs": [
    {
     "data": {
      "text/plain": [
       "86.0"
      ]
     },
     "execution_count": 34,
     "metadata": {},
     "output_type": "execute_result"
    }
   ],
   "source": [
    "def FC(f):\n",
    "    \"Fungsi mengubah F ke C\"\n",
    "    C = (f-32)*5/9\n",
    "    return C\n",
    "\n",
    "FC(30)\n",
    "\n",
    "CF(30)"
   ]
  },
  {
   "cell_type": "code",
   "execution_count": 35,
   "id": "dd6121ba",
   "metadata": {},
   "outputs": [
    {
     "name": "stdout",
     "output_type": "stream",
     "text": [
      "122.0\n"
     ]
    }
   ],
   "source": [
    "pil = 1\n",
    "suhu = 50\n",
    "if pil == 1:\n",
    "    sh = CF(suhu)\n",
    "else:\n",
    "    sh = FC (suhu)\n",
    "print(sh)"
   ]
  },
  {
   "cell_type": "code",
   "execution_count": null,
   "id": "8b7247ca",
   "metadata": {},
   "outputs": [
    {
     "name": "stdout",
     "output_type": "stream",
     "text": [
      "Hasil konversi Celscius to Fahrenheit : 68.0 C\n"
     ]
    }
   ],
   "source": [
    "#KONVERSI SUHU MENGGUNAKAN FUNCTION\n",
    "def CF(celsius):\n",
    "  '''Konversi Celcius ke Fahrenheit'''\n",
    "  return (celsius*9/5)+32\n",
    "\n",
    "def FC(fahrenheit):\n",
    "  '''Konversi Fahrenheit ke Celsius'''\n",
    "  return (fahrenheit-32)*5/9\n",
    "\n",
    "pil = int(input(\"Masukkan pilihan 1 or 2 : \"))\n",
    "suhu = int(input(\"Masukkan suhu : \"))\n",
    "\n",
    "if pil == 1:\n",
    "  sh1 = CF(suhu)\n",
    "  print(f\"Hasil konversi Celscius to Fahrenheit : {sh1} C\")\n",
    "else:\n",
    "  sh2 = FC(suhu)\n",
    "  print(f\"Hasil konversi Celscius to Fahrenheit : {sh2} F\")\n",
    "\n",
    "\n"
   ]
  }
 ],
 "metadata": {
  "kernelspec": {
   "display_name": "base",
   "language": "python",
   "name": "python3"
  },
  "language_info": {
   "codemirror_mode": {
    "name": "ipython",
    "version": 3
   },
   "file_extension": ".py",
   "mimetype": "text/x-python",
   "name": "python",
   "nbconvert_exporter": "python",
   "pygments_lexer": "ipython3",
   "version": "3.12.4"
  }
 },
 "nbformat": 4,
 "nbformat_minor": 5
}
