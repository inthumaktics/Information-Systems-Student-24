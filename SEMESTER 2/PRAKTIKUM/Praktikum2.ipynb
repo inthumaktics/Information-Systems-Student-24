{
 "cells": [
  {
   "cell_type": "code",
   "execution_count": 4,
   "id": "b2d19ab7",
   "metadata": {},
   "outputs": [
    {
     "name": "stdout",
     "output_type": "stream",
     "text": [
      "Sequential Search\n",
      "data 7 sebanyak 1 ditemukan di posisi [5]\n"
     ]
    },
    {
     "data": {
      "text/plain": [
       "[5]"
      ]
     },
     "execution_count": 4,
     "metadata": {},
     "output_type": "execute_result"
    }
   ],
   "source": [
    "#SEQUENTIAL SEARCH\n",
    "\n",
    "\n",
    "def sqesearch(data, key):\n",
    "    loop = 0\n",
    "    pos = []\n",
    "    for i in range(len(data)):\n",
    "        if data[i]==key:\n",
    "            pos.append(i+1)\n",
    "            loop = loop + 1\n",
    "    if len(pos)>0:\n",
    "        print('data', key, 'sebanyak', len(pos), 'ditemukan di posisi', pos)\n",
    "    else:\n",
    "        print('data tidak ditemukan')\n",
    "    return pos\n",
    "\n",
    "data = [1, 3, 4, 5, 7, 8, 0, 1, 6, 2]\n",
    "key = 7\n",
    "print('Sequential Search')\n",
    "sqesearch(data, key)\n"
   ]
  },
  {
   "cell_type": "code",
   "execution_count": null,
   "id": "c2693880",
   "metadata": {},
   "outputs": [
    {
     "name": "stdout",
     "output_type": "stream",
     "text": [
      "data 29 ditemukan di posisi 11\n",
      "banyaknya loop = 2\n"
     ]
    }
   ],
   "source": [
    "#BINARY SEARCH\n",
    "def binarysearch(data, key):\n",
    "    awal = 1\n",
    "    akhir = len(data) - 1\n",
    "    ketemu = False\n",
    "    loop = 0\n",
    "    while (awal<=akhir) and not ketemu:\n",
    "        tengah = int((awal+akhir)/2)\n",
    "        loop = loop + 1\n",
    "        if key == data[tengah]:\n",
    "            ketemu = True\n",
    "            print('data', key, 'ditemukan di posisi', tengah)\n",
    "        elif (key<data[tengah]):\n",
    "            akhir=tengah-1\n",
    "        else:\n",
    "            awal=tengah+1\n",
    "    print('banyaknya loop =', loop)\n",
    "    if ketemu == False:\n",
    "        print('data tidak ditemukan')\n",
    "\n",
    "\n",
    "data = [1, 2, 5, 8, 10, 13, 15, 17, 19, 22, 25, 29, 30, 35, 40]\n",
    "key = 29\n",
    "binarysearch(data, key)"
   ]
  }
 ],
 "metadata": {
  "kernelspec": {
   "display_name": "base",
   "language": "python",
   "name": "python3"
  },
  "language_info": {
   "codemirror_mode": {
    "name": "ipython",
    "version": 3
   },
   "file_extension": ".py",
   "mimetype": "text/x-python",
   "name": "python",
   "nbconvert_exporter": "python",
   "pygments_lexer": "ipython3",
   "version": "3.12.4"
  }
 },
 "nbformat": 4,
 "nbformat_minor": 5
}
