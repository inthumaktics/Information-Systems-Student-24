{
 "cells": [
  {
   "cell_type": "code",
   "execution_count": 1,
   "id": "741dde52",
   "metadata": {},
   "outputs": [
    {
     "name": "stdout",
     "output_type": "stream",
     "text": [
      "24\n"
     ]
    }
   ],
   "source": [
    "#Rekursi\n",
    "def factorial(n):\n",
    "    if n == 0:\n",
    "        return 1\n",
    "    else :\n",
    "        return n*factorial(n-1)\n",
    "    \n",
    "print(factorial(4))"
   ]
  },
  {
   "cell_type": "code",
   "execution_count": 2,
   "id": "b0537dd0",
   "metadata": {},
   "outputs": [
    {
     "data": {
      "text/plain": [
       "13"
      ]
     },
     "execution_count": 2,
     "metadata": {},
     "output_type": "execute_result"
    }
   ],
   "source": [
    "def fib(n):\n",
    "    if n == 0:\n",
    "        return 0\n",
    "    elif n == 1:\n",
    "        return 1\n",
    "    else:\n",
    "        return(fib(n-1)+fib(n-2))\n",
    "\n",
    "fib(7)"
   ]
  }
 ],
 "metadata": {
  "kernelspec": {
   "display_name": "base",
   "language": "python",
   "name": "python3"
  },
  "language_info": {
   "codemirror_mode": {
    "name": "ipython",
    "version": 3
   },
   "file_extension": ".py",
   "mimetype": "text/x-python",
   "name": "python",
   "nbconvert_exporter": "python",
   "pygments_lexer": "ipython3",
   "version": "3.12.4"
  }
 },
 "nbformat": 4,
 "nbformat_minor": 5
}
