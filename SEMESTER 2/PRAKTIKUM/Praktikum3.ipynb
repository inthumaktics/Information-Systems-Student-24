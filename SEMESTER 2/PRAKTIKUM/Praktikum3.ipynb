{
 "cells": [
  {
   "cell_type": "code",
   "execution_count": 1,
   "id": "02fffc4b",
   "metadata": {},
   "outputs": [
    {
     "name": "stdout",
     "output_type": "stream",
     "text": [
      "[4, 4, 5, 6, 78, 98]\n",
      "banyaknya iterasi = 5\n",
      "Hasil = [3, 4, 5, 6, 78, 98]\n"
     ]
    }
   ],
   "source": [
    "def insertion_sort(sort_list):\n",
    "    for i in range(1, len(sort_list)):\n",
    "        key = sort_list[i]\n",
    "        j = i - 1\n",
    "        while j>= 0 and key < sort_list[j]:\n",
    "            sort_list[j + 1] = sort_list[j]\n",
    "            print(sort_list)\n",
    "            j -= 1\n",
    "        sort_list[j+1] = key\n",
    "    print('banyaknya iterasi =', i)\n",
    "    print(\"Hasil =\", sort_list)\n",
    "\n",
    "\n",
    "A = [4, 3, 5, 6, 78, 98]\n",
    "insertion_sort(A)"
   ]
  },
  {
   "cell_type": "code",
   "execution_count": null,
   "id": "2e83d258",
   "metadata": {},
   "outputs": [],
   "source": [
    "def insertion_sort(sort_list):\n",
    "    for i in range(1, len(sort_list)):\n",
    "        key = sort_list[i]\n",
    "        j = i - 1\n",
    "        while j >= 0 and key < sort_list[j]:\n",
    "            sort_list[j + 1] = sort_list[j]\n",
    "            print('iterasi ke', i, sort_list)\n",
    "            j -= 1\n",
    "        sort_list[j + 1] = key\n",
    "    print('iterasi', i-1 ,sort_list)\n",
    "\n",
    "\n",
    "A=[4,3,5,6,2,78,98]\n",
    "insertion_sort(A)"
   ]
  }
 ],
 "metadata": {
  "kernelspec": {
   "display_name": "base",
   "language": "python",
   "name": "python3"
  },
  "language_info": {
   "codemirror_mode": {
    "name": "ipython",
    "version": 3
   },
   "file_extension": ".py",
   "mimetype": "text/x-python",
   "name": "python",
   "nbconvert_exporter": "python",
   "pygments_lexer": "ipython3",
   "version": "3.12.4"
  }
 },
 "nbformat": 4,
 "nbformat_minor": 5
}
