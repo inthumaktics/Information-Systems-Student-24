{
 "cells": [
  {
   "cell_type": "code",
   "execution_count": 14,
   "id": "936d60f8",
   "metadata": {},
   "outputs": [],
   "source": [
    "#PRAKTIKUM 9\n",
    "#PEMANGGILAN MODUL LUAS\n",
    "import luas"
   ]
  },
  {
   "cell_type": "code",
   "execution_count": 15,
   "id": "9d3a2112",
   "metadata": {},
   "outputs": [
    {
     "name": "stdout",
     "output_type": "stream",
     "text": [
      "32.0\n",
      "30\n",
      "1962.5\n"
     ]
    }
   ],
   "source": [
    "luas_segitiga = luas.segitiga(16, 4)\n",
    "luas_persegi = luas.persegi(5, 6)\n",
    "luas_lingkaran = luas.lingkaran(25)\n",
    "\n",
    "print(luas_segitiga)\n",
    "print(luas_persegi)\n",
    "print(luas_lingkaran)"
   ]
  },
  {
   "cell_type": "code",
   "execution_count": 16,
   "id": "53cc8e6f",
   "metadata": {},
   "outputs": [],
   "source": [
    "#PEMANGGILAN MODUL PERHITUNGAN \n",
    "import Perhitungan as hitung"
   ]
  },
  {
   "cell_type": "code",
   "execution_count": 17,
   "id": "e5741dc5",
   "metadata": {},
   "outputs": [
    {
     "name": "stdout",
     "output_type": "stream",
     "text": [
      "Hasil Penjumlahan dari: 10 + 10 = 20\n",
      "Hasil Pengurangan dari: 30 - 10 = 20\n",
      "Hasil Pengurangan dari: 10 * 2 = 20\n",
      "Hasil Pembagian dari: 20 / 2 = 10.0\n"
     ]
    }
   ],
   "source": [
    "hitung.penjumlahan(10, 10)\n",
    "hitung.Pengurangan(30, 10)\n",
    "hitung.Perkalian(10, 2)\n",
    "hitung.Pembagian(20, 2)"
   ]
  },
  {
   "cell_type": "code",
   "execution_count": 18,
   "id": "8bc038ee",
   "metadata": {},
   "outputs": [],
   "source": [
    "#PEMANGGILAN MODUL KALKULATOR BMI\n",
    "from KalkulatorBMI import Hitung_BMI"
   ]
  },
  {
   "cell_type": "code",
   "execution_count": 19,
   "id": "40523aed",
   "metadata": {},
   "outputs": [
    {
     "name": "stdout",
     "output_type": "stream",
     "text": [
      "Hasil : Normal\n"
     ]
    }
   ],
   "source": [
    "Hitung_BMI(60, 150)"
   ]
  }
 ],
 "metadata": {
  "kernelspec": {
   "display_name": "base",
   "language": "python",
   "name": "python3"
  },
  "language_info": {
   "codemirror_mode": {
    "name": "ipython",
    "version": 3
   },
   "file_extension": ".py",
   "mimetype": "text/x-python",
   "name": "python",
   "nbconvert_exporter": "python",
   "pygments_lexer": "ipython3",
   "version": "3.12.4"
  }
 },
 "nbformat": 4,
 "nbformat_minor": 5
}
