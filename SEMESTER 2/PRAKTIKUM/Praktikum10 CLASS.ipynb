{
 "cells": [
  {
   "cell_type": "code",
   "execution_count": 1,
   "id": "29dc3294",
   "metadata": {},
   "outputs": [
    {
     "data": {
      "text/plain": [
       "4"
      ]
     },
     "execution_count": 1,
     "metadata": {},
     "output_type": "execute_result"
    }
   ],
   "source": [
    "class mahasiswa:\n",
    "    jumlah = 0\n",
    "    def __init__(mhs, nama, prodi, NIM):\n",
    "        mhs.prodi = prodi\n",
    "        mhs.nama = nama\n",
    "        mhs.nim = NIM\n",
    "        mahasiswa.jumlah += 1\n",
    "\n",
    "    def tampil_jumlah(mhs):\n",
    "        print(\"Jumlah mahasiswa %d : \"), mahasiswa.jumlah\n",
    "\n",
    "    def tampil_mahasiswa(mhs):\n",
    "        print(\"nama :\", mhs.nama, \", NIM : \", mhs.nim, \"prodi :\", mhs.prodi)\n",
    "\n",
    "mhs1 = mahasiswa(\"iwan\", \"SI\", 150016001)\n",
    "mhs2 = mahasiswa(\"riyadi\", \"Math\", 160016002)\n",
    "mhs3 = mahasiswa(\"yanto\", \"Fisika\", 140016003)\n",
    "mhs4 = mahasiswa(\"tri\", \"Biologi\", 130016004)\n",
    "mahasiswa.jumlah"
   ]
  },
  {
   "cell_type": "code",
   "execution_count": 2,
   "id": "8be75a81",
   "metadata": {},
   "outputs": [
    {
     "name": "stdout",
     "output_type": "stream",
     "text": [
      "nama : iwan , NIM :  150016001 prodi : SI\n"
     ]
    }
   ],
   "source": [
    "mhs1.tampil_mahasiswa()"
   ]
  },
  {
   "cell_type": "code",
   "execution_count": 3,
   "id": "4cd4003f",
   "metadata": {},
   "outputs": [
    {
     "name": "stdout",
     "output_type": "stream",
     "text": [
      "nama : riyadi , NIM :  160016002 prodi : Math\n"
     ]
    }
   ],
   "source": [
    "mhs2.tampil_mahasiswa()"
   ]
  },
  {
   "cell_type": "code",
   "execution_count": 4,
   "id": "9b16d9b2",
   "metadata": {},
   "outputs": [
    {
     "name": "stdout",
     "output_type": "stream",
     "text": [
      "nama : yanto , NIM :  140016003 prodi : Fisika\n"
     ]
    }
   ],
   "source": [
    "mhs3.tampil_mahasiswa()"
   ]
  },
  {
   "cell_type": "code",
   "execution_count": 5,
   "id": "1b2386fd",
   "metadata": {},
   "outputs": [
    {
     "name": "stdout",
     "output_type": "stream",
     "text": [
      "nama : tri , NIM :  130016004 prodi : Biologi\n"
     ]
    }
   ],
   "source": [
    "mhs4.tampil_mahasiswa()"
   ]
  }
 ],
 "metadata": {
  "kernelspec": {
   "display_name": "base",
   "language": "python",
   "name": "python3"
  },
  "language_info": {
   "codemirror_mode": {
    "name": "ipython",
    "version": 3
   },
   "file_extension": ".py",
   "mimetype": "text/x-python",
   "name": "python",
   "nbconvert_exporter": "python",
   "pygments_lexer": "ipython3",
   "version": "3.12.4"
  }
 },
 "nbformat": 4,
 "nbformat_minor": 5
}
