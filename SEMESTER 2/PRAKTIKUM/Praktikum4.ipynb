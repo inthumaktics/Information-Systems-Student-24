{
 "cells": [
  {
   "cell_type": "code",
   "execution_count": 1,
   "id": "3e872a72",
   "metadata": {},
   "outputs": [
    {
     "name": "stdout",
     "output_type": "stream",
     "text": [
      "---------------------\n",
      "1 List sebelum penukaran : [3, 2, 4, 5, 1]\n",
      "2\n",
      "4\n",
      "5\n",
      "1\n",
      "---------------------\n",
      "2 List sebelum penukaran : [1, 2, 4, 5, 3]\n",
      "4\n",
      "5\n",
      "3\n",
      "---------------------\n",
      "3 List sebelum penukaran : [1, 2, 4, 5, 3]\n",
      "5\n",
      "3\n",
      "---------------------\n",
      "4 List sebelum penukaran : [1, 2, 3, 5, 4]\n",
      "4\n",
      "---------------------\n",
      "5 List sebelum penukaran : [1, 2, 3, 4, 5]\n",
      "[1, 2, 3, 4, 5]\n"
     ]
    }
   ],
   "source": [
    "def Selection_sort(A):\n",
    "    for i in range(len(A)):\n",
    "        print(\"---------------------\")\n",
    "        print(f'{i+1} List sebelum penukaran : {A}')\n",
    "        min_idx = i\n",
    "        for j in range(i+1, len(A)):\n",
    "            print(A[j])\n",
    "            if A[min_idx] > A[j]:\n",
    "                min_idx = j\n",
    "        A[i], A[min_idx] = A[min_idx], A[i]  #penukaran\n",
    "\n",
    "A = [3, 2, 4, 5, 1]\n",
    "Selection_sort(A)\n",
    "print(A)"
   ]
  },
  {
   "cell_type": "code",
   "execution_count": 2,
   "id": "0bbf5003",
   "metadata": {},
   "outputs": [
    {
     "name": "stdout",
     "output_type": "stream",
     "text": [
      "---------------------\n",
      "1 List sebelum penukaran : [3, 2, 4, 5, 1]\n",
      "2\n",
      "4\n",
      "5\n",
      "1\n",
      "---------------------\n",
      "2 List sebelum penukaran : [5, 2, 4, 3, 1]\n",
      "4\n",
      "3\n",
      "1\n",
      "---------------------\n",
      "3 List sebelum penukaran : [5, 4, 2, 3, 1]\n",
      "3\n",
      "1\n",
      "---------------------\n",
      "4 List sebelum penukaran : [5, 4, 3, 2, 1]\n",
      "1\n",
      "---------------------\n",
      "5 List sebelum penukaran : [5, 4, 3, 2, 1]\n",
      "[5, 4, 3, 2, 1]\n"
     ]
    }
   ],
   "source": [
    "def Selection_sort(A):\n",
    "    for i in range(len(A)):\n",
    "        print(\"---------------------\")\n",
    "        print(f'{i+1} List sebelum penukaran : {A}')\n",
    "        min_idx = i\n",
    "        for j in range(i+1, len(A)):\n",
    "            print(A[j])\n",
    "            if A[min_idx] < A[j]:\n",
    "                min_idx = j\n",
    "        A[i], A[min_idx] = A[min_idx], A[i]\n",
    "\n",
    "A = [3, 2, 4, 5, 1]\n",
    "Selection_sort(A)\n",
    "print(A)"
   ]
  }
 ],
 "metadata": {
  "kernelspec": {
   "display_name": "base",
   "language": "python",
   "name": "python3"
  },
  "language_info": {
   "codemirror_mode": {
    "name": "ipython",
    "version": 3
   },
   "file_extension": ".py",
   "mimetype": "text/x-python",
   "name": "python",
   "nbconvert_exporter": "python",
   "pygments_lexer": "ipython3",
   "version": "3.12.4"
  }
 },
 "nbformat": 4,
 "nbformat_minor": 5
}
