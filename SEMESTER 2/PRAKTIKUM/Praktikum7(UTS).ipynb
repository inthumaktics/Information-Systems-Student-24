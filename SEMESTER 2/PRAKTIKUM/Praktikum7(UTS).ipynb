{
 "cells": [
  {
   "cell_type": "code",
   "execution_count": null,
   "id": "2a903a46",
   "metadata": {},
   "outputs": [],
   "source": [
    "#UTS\n",
    "def kalkulator(a, b, option):\n",
    "    if option == 1:\n",
    "        Hasil1 = a + b\n",
    "        return Hasil1"
   ]
  },
  {
   "cell_type": "code",
   "execution_count": null,
   "id": "81e0f85a",
   "metadata": {},
   "outputs": [],
   "source": [
    "def tambah(a, b):\n",
    "    return a + b\n",
    "\n",
    "def kurang(a, b):\n",
    "    return a - b\n",
    "\n",
    "def kali(a, b):\n",
    "    return a * b\n",
    "\n",
    "def bagi(a, b):\n",
    "    if b != 0:\n",
    "        return a / b\n",
    "    else:\n",
    "        return \"Error: Pembagian dengan nol!\"\n",
    "\n",
    "def kalkulator():\n",
    "    print(\"Kalkulator Sederhana\")\n",
    "    print(\"1. Tambah (+)\")\n",
    "    print(\"2. Kurang (-)\")\n",
    "    print(\"3. Kali (*)\")\n",
    "    print(\"4. Bagi (/)\")\n",
    "    print(\"5. Keluar\")\n",
    "\n",
    "    while True:\n",
    "        pilihan = input(\"\\nMasukkan pilihan (1/2/3/4/5): \")\n",
    "        \n",
    "        if pilihan == '5':\n",
    "            print(\"Keluar dari kalkulator...\")\n",
    "            break\n",
    "            \n",
    "        if pilihan in ('1', '2', '3', '4'):\n",
    "            try:\n",
    "                angka1 = float(input(\"Masukkan angka pertama: \"))\n",
    "                angka2 = float(input(\"Masukkan angka kedua: \"))\n",
    "            except ValueError:\n",
    "                print(\"Error: Masukkan angka yang valid!\")\n",
    "                continue\n",
    "            \n",
    "            if pilihan == '1':\n",
    "                print(f\"Hasil: {angka1} + {angka2} = {tambah(angka1, angka2)}\")\n",
    "            elif pilihan == '2':\n",
    "                print(f\"Hasil: {angka1} - {angka2} = {kurang(angka1, angka2)}\")\n",
    "            elif pilihan == '3':\n",
    "                print(f\"Hasil: {angka1} * {angka2} = {kali(angka1, angka2)}\")\n",
    "            elif pilihan == '4':\n",
    "                print(f\"Hasil: {angka1} / {angka2} = {bagi(angka1, angka2)}\")\n",
    "        else:\n",
    "            print(\"Pilihan tidak valid!\")\n",
    "\n",
    "# Jalankan kalkulator\n",
    "kalkulator()\n"
   ]
  }
 ],
 "metadata": {
  "language_info": {
   "name": "python"
  }
 },
 "nbformat": 4,
 "nbformat_minor": 5
}
